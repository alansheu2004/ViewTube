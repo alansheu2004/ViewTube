{
 "cells": [
  {
   "cell_type": "code",
   "execution_count": 245,
   "id": "4dc06c90",
   "metadata": {},
   "outputs": [
    {
     "name": "stdout",
     "output_type": "stream",
     "text": [
      "OIEH#HFNDdjj\n"
     ]
    }
   ],
   "source": [
    "## Set up dataset\n",
    "\n",
    "import numpy as np\n",
    "import pandas as pd\n",
    "import matplotlib.pyplot as plt\n",
    "\n",
    "import xgboost as xgb\n",
    "\n",
    "df = pd.read_csv(\"base_dataset.csv\")"
   ]
  },
  {
   "cell_type": "code",
   "execution_count": 241,
   "id": "168d5dc4-15f3-4c2a-8029-b0851cfe667c",
   "metadata": {},
   "outputs": [],
   "source": [
    "## Clean up data\n",
    "\n",
    "df = df[df['viewCount'].notna()]\n",
    "# df = df[df['likeCount'].notna()]\n",
    "# df = df[df['commentCount'].notna()]\n",
    "\n",
    "def process_title(title):\n",
    "    title = str(title)\n",
    "    # title = re.sub(r\"&.*?;\", \" \", title)\n",
    "    title = re.sub(r\"[!\\\"#\\＄%&\\(\\)\\*\\+,-\\./:;<=>\\?@\\[\\\\\\]\\^_`{\\|}~]\", \" \", title)\n",
    "    title = title.lower()\n",
    "    title = title.split(\" \")\n",
    "    title = list(filter(None, title))\n",
    "    return title\n",
    "\n",
    "titles = df[\"vidTitle\"].map(process_title)\n",
    "\n",
    "def process_tags(tags):\n",
    "    if(tags == None) return []\n",
    "    tags = str(tags)\n",
    "    tags = tags.lower()\n",
    "    tags = tags[1:-1]\n",
    "    tags = tags.split(,)\n",
    "    tags = [tag[1:-1] for tag in tags]\n",
    "    tags = list(filter(None, tags))\n",
    "    return tags\n",
    "\n",
    "tags = df[\"tags\"].map(process_tags)\n",
    "print(tags)\n",
    "df[\"tagCount\"] = len(tags)"
   ]
  },
  {
   "cell_type": "code",
   "execution_count": 242,
   "id": "b2ce0aaf-10e4-490b-9fa3-4050b09bcb9c",
   "metadata": {},
   "outputs": [],
   "source": [
    "## Train Model for Word2Vec on Titles\n",
    "\n",
    "from gensim.models import Word2Vec, FastText\n",
    "import re\n",
    "\n",
    "vector_size = 300\n",
    "w2v = Word2Vec(titles, min_count=2, vector_size = vector_size)\n",
    "\n",
    "def convertToVec(wordlist):\n",
    "    if (len(title) == 0):\n",
    "        return np.zeros(vector_size)\n",
    "    else:\n",
    "        return np.mean([w2v.wv[word] if (word in w2v.wv) else np.zeros(vector_size) for word in wordlist], axis=0)\n",
    "\n",
    "test_titles = df.loc[:, \"vidTitle\"].map(process_title)\n",
    "title_vectors = [convertToVec(title) for title in test_titles]\n",
    "\n",
    "title_vec_cols = [\"titleVec\" + str(num) for num in range(vector_size)]\n",
    "title_vec_df = pd.DataFrame(title_vectors, index=df.index, columns = title_vec_cols)\n",
    "\n",
    "df = pd.concat([df, title_vec_df], axis=1)"
   ]
  },
  {
   "cell_type": "code",
   "execution_count": 243,
   "id": "60b7e08d-524b-4ef3-aea8-656f500acd31",
   "metadata": {},
   "outputs": [
    {
     "name": "stdout",
     "output_type": "stream",
     "text": [
      "MAE: 34905736.27445652\n",
      "RMSE: 108904896.02103995\n"
     ]
    }
   ],
   "source": [
    "from sklearn.metrics import mean_squared_error\n",
    "from sklearn.metrics import mean_absolute_error\n",
    "from sklearn.model_selection import train_test_split\n",
    "\n",
    "x_labels = [\"categoryId\", \"tagCount\"] + title_vec_cols\n",
    "y_labels = [\"viewCount\"]\n",
    "x = df.loc[:, x_labels]\n",
    "y = df.loc[:, y_labels]\n",
    "dmatrix = xgb.DMatrix(data=x,label=y)\n",
    "\n",
    "\n",
    "x_train, x_test, y_train, y_test = train_test_split(x, y, test_size=0.2, random_state=123)\n",
    "\n",
    "xgb_reg = xgb.XGBRegressor(objective ='reg:squarederror',\n",
    "                           colsample_bytree = 0.3, \n",
    "                           learning_rate = 0.1,\n",
    "                           max_depth = 10, \n",
    "                           alpha = 50, \n",
    "                           n_estimators = 10)\n",
    "\n",
    "xgb_reg.fit(x_train, y_train)\n",
    "pred = xgb_reg.predict(x_test)\n",
    "\n",
    "print(\"MAE: \" + str(mean_absolute_error(y_test, pred)))\n",
    "print(\"RMSE: \" + str(np.sqrt(mean_squared_error(y_test, pred))))"
   ]
  },
  {
   "cell_type": "code",
   "execution_count": 7,
   "id": "0939b9ac",
   "metadata": {},
   "outputs": [
    {
     "name": "stdout",
     "output_type": "stream",
     "text": [
      "   train-rmse-mean  train-rmse-std  test-rmse-mean  test-rmse-std\n",
      "0        91.090988        3.732703       91.093904       8.681391\n",
      "1        88.495440        3.338890       88.832230       8.356700\n",
      "2        87.147969        3.127699       87.795114       7.890722\n",
      "3        86.452434        3.021541       87.354288       7.429542\n",
      "4        86.097054        2.965904       87.193656       7.037225\n",
      "5        85.914080        2.936251       87.152253       6.720735\n"
     ]
    }
   ],
   "source": [
    "params = {\"objective\":\"reg:squarederror\",'colsample_bytree': 0.3,'learning_rate': 0.3,\n",
    "                'max_depth': 10, 'alpha': 10}\n",
    "\n",
    "cv_results = xgb.cv(dtrain=dmatrix, params=params, nfold=3,\n",
    "                    num_boost_round=100,early_stopping_rounds=20,metrics=\"rmse\", as_pandas=True, seed=123)\n",
    "\n",
    "cv_results.describe()\n",
    "print(cv_results)"
   ]
  }
 ],
 "metadata": {
  "kernelspec": {
   "display_name": "Python 3 (ipykernel)",
   "language": "python",
   "name": "python3"
  },
  "language_info": {
   "codemirror_mode": {
    "name": "ipython",
    "version": 3
   },
   "file_extension": ".py",
   "mimetype": "text/x-python",
   "name": "python",
   "nbconvert_exporter": "python",
   "pygments_lexer": "ipython3",
   "version": "3.11.1"
  }
 },
 "nbformat": 4,
 "nbformat_minor": 5
}
