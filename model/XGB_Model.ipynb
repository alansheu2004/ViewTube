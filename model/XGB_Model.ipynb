{
 "cells": [
  {
   "cell_type": "code",
   "execution_count": 140,
   "id": "4dc06c90",
   "metadata": {},
   "outputs": [],
   "source": [
    "## Set up dataset\n",
    "\n",
    "import numpy as np\n",
    "import pandas as pd\n",
    "import matplotlib.pyplot as plt\n",
    "\n",
    "import xgboost as xgb\n",
    "\n",
    "df = pd.read_csv(\"../data/youtube_project_database.csv\")"
   ]
  },
  {
   "cell_type": "code",
   "execution_count": 141,
   "id": "168d5dc4-15f3-4c2a-8029-b0851cfe667c",
   "metadata": {},
   "outputs": [],
   "source": [
    "## Clean up data\n",
    "\n",
    "import re\n",
    "\n",
    "#Views\n",
    "df = df[df['viewCount'].notna()]\n",
    "df['logViews'] = np.log(df['viewCount'] + 1)\n",
    "\n",
    "mean_log_views = np.mean(df['logViews'])\n",
    "std_log_views = np.std(df['logViews'])\n",
    "df['zLogViews'] = (df['logViews'] - mean_log_views) / std_log_views\n",
    "\n",
    "# Categories\n",
    "df[\"categoryId\"].astype(\"category\")\n",
    "\n",
    "# Average Views\n",
    "df = df[df[\"videoCount\"] > 0]\n",
    "df['avgViewsPerVid'] = pd.to_numeric(df['avgViewsPerVid'])\n",
    "\n",
    "# Titles\n",
    "def process_title(title):\n",
    "    title = str(title)\n",
    "    # title = re.sub(r\"&.*?;\", \" \", title)\n",
    "    title = re.sub(r\"[!\\\"#\\＄%&\\(\\)\\*\\+,-\\./:;<=>\\?@\\[\\\\\\]\\^_`{\\|}~]\", \" \", title)\n",
    "    title = title.lower()\n",
    "    title = title.split(\" \")\n",
    "    title = list(filter(None, title))\n",
    "    return title\n",
    "\n",
    "titles = df[\"vidTitle\"].map(process_title)\n",
    "\n",
    "# Tags\n",
    "def process_tags(tags):\n",
    "    if(tags == None):\n",
    "        return []\n",
    "    tags = str(tags)\n",
    "    tags = tags.lower()\n",
    "    tags = tags[1:-1]\n",
    "    tags = tags.split(\", \")\n",
    "    tags = [tag[1:-1] for tag in tags]\n",
    "    tags = list(filter(None, tags))\n",
    "    return tags\n",
    "\n",
    "tags = df[\"tags\"].map(process_tags)\n",
    "df[\"tagCount\"] = len(tags)\n",
    "\n",
    "# Times\n",
    "df.loc[df['retrievalTime'].isna(), 'retrievalTime'] = '2023-04-07 14:25:00'\n",
    "\n",
    "df['publishedAt'] = pd.to_datetime(df['publishedAt'], format='%Y-%m-%dT%H:%M:%SZ')\n",
    "df['retrievalTime'] = pd.to_datetime(df['retrievalTime'], format='%Y-%m-%d %H:%M:%S')\n",
    "df['timeElapsed'] = (df['retrievalTime'] - df['publishedAt']).dt.days"
   ]
  },
  {
   "cell_type": "code",
   "execution_count": 142,
   "id": "d67fe784-95ec-432d-8b87-8da181c1e4d5",
   "metadata": {},
   "outputs": [],
   "source": [
    "## Train Model for FastText\n",
    "\n",
    "from gensim.models import Word2Vec, FastText\n",
    "\n",
    "def convertToVec(ft, wordlist):\n",
    "    if (len(wordlist) == 0):\n",
    "        return np.zeros(ft.vector_size)\n",
    "    else:\n",
    "        return np.mean([ft.wv[word] for word in wordlist], axis=0)\n",
    "\n",
    "vector_size_titles = 300\n",
    "ft_titles = FastText(titles, vector_size=vector_size_titles)\n",
    "title_vectors = [convertToVec(ft_titles, title) for title in titles]\n",
    "title_vec_cols = [\"titleVec\" + str(num) for num in range(vector_size_titles)]\n",
    "title_vec_df = pd.DataFrame(title_vectors, index=df.index, columns = title_vec_cols)\n",
    "df = pd.concat([df, title_vec_df], axis=1)\n",
    "\n",
    "vector_size_tags = 300\n",
    "ft_tags = FastText(tags, min_count=2, vector_size = vector_size_tags)\n",
    "tags_vectors = [convertToVec(ft_tags, tagList) for tagList in tags]\n",
    "tags_vec_cols = [\"tagsVec\" + str(num) for num in range(vector_size_tags)]\n",
    "tags_vec_df = pd.DataFrame(tags_vectors, index=df.index, columns = tags_vec_cols)\n",
    "df = pd.concat([df, tags_vec_df], axis=1)"
   ]
  },
  {
   "cell_type": "code",
   "execution_count": 155,
   "id": "840899c7-5a94-4b4e-b5e7-a5618ac92ba4",
   "metadata": {},
   "outputs": [
    {
     "name": "stderr",
     "output_type": "stream",
     "text": [
      "C:\\Users\\me123\\AppData\\Local\\Programs\\Python\\Python311\\Lib\\site-packages\\torchvision\\models\\_utils.py:208: UserWarning: The parameter 'pretrained' is deprecated since 0.13 and may be removed in the future, please use 'weights' instead.\n",
      "  warnings.warn(\n",
      "C:\\Users\\me123\\AppData\\Local\\Programs\\Python\\Python311\\Lib\\site-packages\\torchvision\\models\\_utils.py:223: UserWarning: Arguments other than a weight enum or `None` for 'weights' are deprecated since 0.13 and may be removed in the future. The current behavior is equivalent to passing `weights=ResNet18_Weights.IMAGENET1K_V1`. You can also use `weights=ResNet18_Weights.DEFAULT` to get the most up-to-date weights.\n",
      "  warnings.warn(msg)\n"
     ]
    }
   ],
   "source": [
    "## Train Model for Img2Vec\n",
    "\n",
    "from img2vec_pytorch import Img2Vec\n",
    "from PIL import Image\n",
    "import requests\n",
    "from io import BytesIO\n",
    "\n",
    "# Initialize Img2Vec with GPU\n",
    "img2vec = Img2Vec()\n",
    "\n",
    "# Read in an image (rgb format)\n",
    "\n",
    "thumbnail_vectors = df['thumbnail lq'].map(lambda url : img2vec.get_vec(Image.open(BytesIO(requests.get(url).content)))).tolist()\n",
    "\n",
    "vector_size_thumbnail = len(vectors[0])\n",
    "thumbnail_vec_cols = [\"thumbnailVec\" + str(num) for num in range(vector_size_thumbnail)]\n",
    "thumbnail_vec_df = pd.DataFrame(thumbnail_vectors, index=df.index, columns = thumbnail_vec_cols)\n",
    "df = pd.concat([df, thumbnail_vec_df], axis=1)"
   ]
  },
  {
   "cell_type": "code",
   "execution_count": 159,
   "id": "60b7e08d-524b-4ef3-aea8-656f500acd31",
   "metadata": {},
   "outputs": [
    {
     "name": "stdout",
     "output_type": "stream",
     "text": [
      "MAE (just mean): 1813171.0902219412\n",
      "MAE (all params): 517597.5896786193\n"
     ]
    }
   ],
   "source": [
    "from sklearn.metrics import mean_squared_error\n",
    "from sklearn.metrics import mean_absolute_error\n",
    "from sklearn.model_selection import train_test_split\n",
    "\n",
    "x_labels = [\"categoryId\", \"tagCount\", \"avgViewsPerVid\", \"subscriberCount\", \"videoCount\", \"timeElapsed\"] + title_vec_cols + tags_vec_cols + thumbnail_vec_cols\n",
    "y_labels = [\"zLogViews\"]\n",
    "x = df.loc[:, x_labels]\n",
    "y = df.loc[:, y_labels]\n",
    "dmatrix = xgb.DMatrix(data=x,label=y, enable_categorical=True)\n",
    "\n",
    "x_train, x_test, y_train, y_test = train_test_split(x, y, test_size=0.2, random_state=123)\n",
    "\n",
    "xgb_reg = xgb.XGBRegressor(objective ='reg:squarederror',\n",
    "                           learning_rate = 0.1,\n",
    "                           max_depth = 5,\n",
    "                           n_estimators = 200)\n",
    "\n",
    "xgb_reg.fit(x_train, y_train)\n",
    "pred = xgb_reg.predict(x_test)\n",
    "\n",
    "print(\"MAE (just mean): \" + str(mean_absolute_error(np.exp(y_test), x_test[\"avgViewsPerVid\"])))\n",
    "print(\"MAE (all params): \" + str(mean_absolute_error(np.exp(y_test * std_log_views + mean_log_views), np.exp(pred * std_log_views + mean_log_views))))"
   ]
  },
  {
   "cell_type": "code",
   "execution_count": 160,
   "id": "f537f8e5-d428-4e01-872b-a6ea1538ab36",
   "metadata": {},
   "outputs": [
    {
     "data": {
      "text/plain": [
       "868244.334412082"
      ]
     },
     "execution_count": 160,
     "metadata": {},
     "output_type": "execute_result"
    }
   ],
   "source": [
    "np.std(df[\"viewCount\"])"
   ]
  },
  {
   "cell_type": "code",
   "execution_count": null,
   "id": "844bac96-a949-4f42-929f-44b05dc74d7c",
   "metadata": {},
   "outputs": [],
   "source": []
  }
 ],
 "metadata": {
  "kernelspec": {
   "display_name": "Python 3 (ipykernel)",
   "language": "python",
   "name": "python3"
  },
  "language_info": {
   "codemirror_mode": {
    "name": "ipython",
    "version": 3
   },
   "file_extension": ".py",
   "mimetype": "text/x-python",
   "name": "python",
   "nbconvert_exporter": "python",
   "pygments_lexer": "ipython3",
   "version": "3.11.1"
  }
 },
 "nbformat": 4,
 "nbformat_minor": 5
}
