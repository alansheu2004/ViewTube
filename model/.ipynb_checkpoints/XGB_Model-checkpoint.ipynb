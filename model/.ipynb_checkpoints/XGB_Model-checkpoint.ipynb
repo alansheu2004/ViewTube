{
 "cells": [
  {
   "cell_type": "code",
   "execution_count": 117,
   "id": "4dc06c90",
   "metadata": {},
   "outputs": [],
   "source": [
    "## Set up dataset\n",
    "\n",
    "import numpy as np\n",
    "import pandas as pd\n",
    "import matplotlib.pyplot as plt\n",
    "\n",
    "import xgboost as xgb\n",
    "\n",
    "df = pd.read_csv(\"../data/youtube_project_database.csv\")"
   ]
  },
  {
   "cell_type": "code",
   "execution_count": 118,
   "id": "168d5dc4-15f3-4c2a-8029-b0851cfe667c",
   "metadata": {},
   "outputs": [],
   "source": [
    "## Clean up data\n",
    "\n",
    "import re\n",
    "\n",
    "#Views\n",
    "df = df[df['viewCount'].notna()]\n",
    "df['logViews'] = np.log(df['viewCount'] + 1)\n",
    "\n",
    "mean_log_views = np.mean(df['logViews'])\n",
    "std_log_views = np.std(df['logViews'])\n",
    "df['zLogViews'] = (df['logViews'] - mean_log_views) / std_log_views\n",
    "\n",
    "# Categories\n",
    "df[\"categoryId\"].astype(\"category\")\n",
    "\n",
    "# Average Views\n",
    "df = df[df[\"videoCount\"] > 0]\n",
    "df['avgViewsPerVid'] = pd.to_numeric(df['avgViewsPerVid'])\n",
    "\n",
    "# Titles\n",
    "def process_title(title):\n",
    "    title = str(title)\n",
    "    # title = re.sub(r\"&.*?;\", \" \", title)\n",
    "    title = re.sub(r\"[!\\\"#\\＄%&\\(\\)\\*\\+,-\\./:;<=>\\?@\\[\\\\\\]\\^_`{\\|}~]\", \" \", title)\n",
    "    title = title.lower()\n",
    "    title = title.split(\" \")\n",
    "    title = list(filter(None, title))\n",
    "    return title\n",
    "\n",
    "titles = df[\"vidTitle\"].map(process_title)\n",
    "\n",
    "# Tags\n",
    "def process_tags(tags):\n",
    "    if(tags == None):\n",
    "        return []\n",
    "    tags = str(tags)\n",
    "    tags = tags.lower()\n",
    "    tags = tags[1:-1]\n",
    "    tags = tags.split(\", \")\n",
    "    tags = [tag[1:-1] for tag in tags]\n",
    "    tags = list(filter(None, tags))\n",
    "    return tags\n",
    "\n",
    "tags = df[\"tags\"].map(process_tags)\n",
    "df[\"tagCount\"] = len(tags)\n",
    "\n",
    "# Times\n",
    "df.loc[df['retrievalTime'].isna(), 'retrievalTime'] = '2023-04-07 14:25:00'\n",
    "\n",
    "df['publishedAt'] = pd.to_datetime(df['publishedAt'], format='%Y-%m-%dT%H:%M:%SZ')\n",
    "df['retrievalTime'] = pd.to_datetime(df['retrievalTime'], format='%Y-%m-%d %H:%M:%S')\n",
    "df['timeElapsed'] = (df['retrievalTime'] - df['publishedAt']).dt.days"
   ]
  },
  {
   "cell_type": "code",
   "execution_count": 119,
   "id": "d67fe784-95ec-432d-8b87-8da181c1e4d5",
   "metadata": {},
   "outputs": [],
   "source": [
    "## Train Model for FastText\n",
    "\n",
    "from gensim.models import Word2Vec, FastText\n",
    "\n",
    "def convertToVec(ft, wordlist):\n",
    "    if (len(wordlist) == 0):\n",
    "        return np.zeros(ft.vector_size)\n",
    "    else:\n",
    "        return np.mean([ft.wv[word] for word in wordlist], axis=0)\n",
    "\n",
    "vector_size_titles = 300\n",
    "ft_titles = FastText(titles, vector_size=vector_size_titles)\n",
    "title_vectors = [convertToVec(ft_titles, title) for title in titles]\n",
    "title_vec_cols = [\"titleVec\" + str(num) for num in range(vector_size_titles)]\n",
    "title_vec_df = pd.DataFrame(title_vectors, index=df.index, columns = title_vec_cols)\n",
    "df = pd.concat([df, title_vec_df], axis=1)\n",
    "\n",
    "vector_size_tags = 300\n",
    "ft_tags = FastText(tags, min_count=2, vector_size = vector_size_tags)\n",
    "tags_vectors = [convertToVec(ft_tags, tagList) for tagList in tags]\n",
    "tags_vec_cols = [\"tagsVec\" + str(num) for num in range(vector_size_tags)]\n",
    "tags_vec_df = pd.DataFrame(tags_vectors, index=df.index, columns = tags_vec_cols)\n",
    "df = pd.concat([df, tags_vec_df], axis=1)"
   ]
  },
  {
   "cell_type": "code",
   "execution_count": 139,
   "id": "840899c7-5a94-4b4e-b5e7-a5618ac92ba4",
   "metadata": {},
   "outputs": [
    {
     "ename": "ValueError",
     "evalue": "Shape of passed values is (99, 512), indices imply (4635, 512)",
     "output_type": "error",
     "traceback": [
      "\u001b[1;31m---------------------------------------------------------------------------\u001b[0m",
      "\u001b[1;31mValueError\u001b[0m                                Traceback (most recent call last)",
      "Cell \u001b[1;32mIn[139], line 18\u001b[0m\n\u001b[0;32m     16\u001b[0m vector_size_thumbnail \u001b[38;5;241m=\u001b[39m \u001b[38;5;28mlen\u001b[39m(vectors[\u001b[38;5;241m0\u001b[39m])\n\u001b[0;32m     17\u001b[0m thumbnail_vec_cols \u001b[38;5;241m=\u001b[39m [\u001b[38;5;124m\"\u001b[39m\u001b[38;5;124mthumbnailVec\u001b[39m\u001b[38;5;124m\"\u001b[39m \u001b[38;5;241m+\u001b[39m \u001b[38;5;28mstr\u001b[39m(num) \u001b[38;5;28;01mfor\u001b[39;00m num \u001b[38;5;129;01min\u001b[39;00m \u001b[38;5;28mrange\u001b[39m(vector_size_thumbnail)]\n\u001b[1;32m---> 18\u001b[0m thumbnail_vec_df \u001b[38;5;241m=\u001b[39m \u001b[43mpd\u001b[49m\u001b[38;5;241;43m.\u001b[39;49m\u001b[43mDataFrame\u001b[49m\u001b[43m(\u001b[49m\u001b[43mthumbnail_vectors\u001b[49m\u001b[43m,\u001b[49m\u001b[43m \u001b[49m\u001b[43mindex\u001b[49m\u001b[38;5;241;43m=\u001b[39;49m\u001b[43mdf\u001b[49m\u001b[38;5;241;43m.\u001b[39;49m\u001b[43mindex\u001b[49m\u001b[43m,\u001b[49m\u001b[43m \u001b[49m\u001b[43mcolumns\u001b[49m\u001b[43m \u001b[49m\u001b[38;5;241;43m=\u001b[39;49m\u001b[43m \u001b[49m\u001b[43mthumbnail_vec_cols\u001b[49m\u001b[43m)\u001b[49m\n\u001b[0;32m     19\u001b[0m df \u001b[38;5;241m=\u001b[39m pd\u001b[38;5;241m.\u001b[39mconcat([df, thumbnail_vec_df], axis\u001b[38;5;241m=\u001b[39m\u001b[38;5;241m1\u001b[39m)\n",
      "File \u001b[1;32m~\\AppData\\Local\\Programs\\Python\\Python311\\Lib\\site-packages\\pandas\\core\\frame.py:722\u001b[0m, in \u001b[0;36mDataFrame.__init__\u001b[1;34m(self, data, index, columns, dtype, copy)\u001b[0m\n\u001b[0;32m    712\u001b[0m         mgr \u001b[38;5;241m=\u001b[39m dict_to_mgr(\n\u001b[0;32m    713\u001b[0m             \u001b[38;5;66;03m# error: Item \"ndarray\" of \"Union[ndarray, Series, Index]\" has no\u001b[39;00m\n\u001b[0;32m    714\u001b[0m             \u001b[38;5;66;03m# attribute \"name\"\u001b[39;00m\n\u001b[1;32m   (...)\u001b[0m\n\u001b[0;32m    719\u001b[0m             typ\u001b[38;5;241m=\u001b[39mmanager,\n\u001b[0;32m    720\u001b[0m         )\n\u001b[0;32m    721\u001b[0m     \u001b[38;5;28;01melse\u001b[39;00m:\n\u001b[1;32m--> 722\u001b[0m         mgr \u001b[38;5;241m=\u001b[39m \u001b[43mndarray_to_mgr\u001b[49m\u001b[43m(\u001b[49m\n\u001b[0;32m    723\u001b[0m \u001b[43m            \u001b[49m\u001b[43mdata\u001b[49m\u001b[43m,\u001b[49m\n\u001b[0;32m    724\u001b[0m \u001b[43m            \u001b[49m\u001b[43mindex\u001b[49m\u001b[43m,\u001b[49m\n\u001b[0;32m    725\u001b[0m \u001b[43m            \u001b[49m\u001b[43mcolumns\u001b[49m\u001b[43m,\u001b[49m\n\u001b[0;32m    726\u001b[0m \u001b[43m            \u001b[49m\u001b[43mdtype\u001b[49m\u001b[38;5;241;43m=\u001b[39;49m\u001b[43mdtype\u001b[49m\u001b[43m,\u001b[49m\n\u001b[0;32m    727\u001b[0m \u001b[43m            \u001b[49m\u001b[43mcopy\u001b[49m\u001b[38;5;241;43m=\u001b[39;49m\u001b[43mcopy\u001b[49m\u001b[43m,\u001b[49m\n\u001b[0;32m    728\u001b[0m \u001b[43m            \u001b[49m\u001b[43mtyp\u001b[49m\u001b[38;5;241;43m=\u001b[39;49m\u001b[43mmanager\u001b[49m\u001b[43m,\u001b[49m\n\u001b[0;32m    729\u001b[0m \u001b[43m        \u001b[49m\u001b[43m)\u001b[49m\n\u001b[0;32m    731\u001b[0m \u001b[38;5;66;03m# For data is list-like, or Iterable (will consume into list)\u001b[39;00m\n\u001b[0;32m    732\u001b[0m \u001b[38;5;28;01melif\u001b[39;00m is_list_like(data):\n",
      "File \u001b[1;32m~\\AppData\\Local\\Programs\\Python\\Python311\\Lib\\site-packages\\pandas\\core\\internals\\construction.py:349\u001b[0m, in \u001b[0;36mndarray_to_mgr\u001b[1;34m(values, index, columns, dtype, copy, typ)\u001b[0m\n\u001b[0;32m    344\u001b[0m \u001b[38;5;66;03m# _prep_ndarraylike ensures that values.ndim == 2 at this point\u001b[39;00m\n\u001b[0;32m    345\u001b[0m index, columns \u001b[38;5;241m=\u001b[39m _get_axes(\n\u001b[0;32m    346\u001b[0m     values\u001b[38;5;241m.\u001b[39mshape[\u001b[38;5;241m0\u001b[39m], values\u001b[38;5;241m.\u001b[39mshape[\u001b[38;5;241m1\u001b[39m], index\u001b[38;5;241m=\u001b[39mindex, columns\u001b[38;5;241m=\u001b[39mcolumns\n\u001b[0;32m    347\u001b[0m )\n\u001b[1;32m--> 349\u001b[0m \u001b[43m_check_values_indices_shape_match\u001b[49m\u001b[43m(\u001b[49m\u001b[43mvalues\u001b[49m\u001b[43m,\u001b[49m\u001b[43m \u001b[49m\u001b[43mindex\u001b[49m\u001b[43m,\u001b[49m\u001b[43m \u001b[49m\u001b[43mcolumns\u001b[49m\u001b[43m)\u001b[49m\n\u001b[0;32m    351\u001b[0m \u001b[38;5;28;01mif\u001b[39;00m typ \u001b[38;5;241m==\u001b[39m \u001b[38;5;124m\"\u001b[39m\u001b[38;5;124marray\u001b[39m\u001b[38;5;124m\"\u001b[39m:\n\u001b[0;32m    353\u001b[0m     \u001b[38;5;28;01mif\u001b[39;00m \u001b[38;5;28missubclass\u001b[39m(values\u001b[38;5;241m.\u001b[39mdtype\u001b[38;5;241m.\u001b[39mtype, \u001b[38;5;28mstr\u001b[39m):\n",
      "File \u001b[1;32m~\\AppData\\Local\\Programs\\Python\\Python311\\Lib\\site-packages\\pandas\\core\\internals\\construction.py:420\u001b[0m, in \u001b[0;36m_check_values_indices_shape_match\u001b[1;34m(values, index, columns)\u001b[0m\n\u001b[0;32m    418\u001b[0m passed \u001b[38;5;241m=\u001b[39m values\u001b[38;5;241m.\u001b[39mshape\n\u001b[0;32m    419\u001b[0m implied \u001b[38;5;241m=\u001b[39m (\u001b[38;5;28mlen\u001b[39m(index), \u001b[38;5;28mlen\u001b[39m(columns))\n\u001b[1;32m--> 420\u001b[0m \u001b[38;5;28;01mraise\u001b[39;00m \u001b[38;5;167;01mValueError\u001b[39;00m(\u001b[38;5;124mf\u001b[39m\u001b[38;5;124m\"\u001b[39m\u001b[38;5;124mShape of passed values is \u001b[39m\u001b[38;5;132;01m{\u001b[39;00mpassed\u001b[38;5;132;01m}\u001b[39;00m\u001b[38;5;124m, indices imply \u001b[39m\u001b[38;5;132;01m{\u001b[39;00mimplied\u001b[38;5;132;01m}\u001b[39;00m\u001b[38;5;124m\"\u001b[39m)\n",
      "\u001b[1;31mValueError\u001b[0m: Shape of passed values is (99, 512), indices imply (4635, 512)"
     ]
    }
   ],
   "source": [
    "## Train Model for Img2Vec\n",
    "\n",
    "from img2vec_pytorch import Img2Vec\n",
    "from PIL import Image\n",
    "import requests\n",
    "from io import BytesIO\n",
    "\n",
    "# Initialize Img2Vec with GPU\n",
    "img2vec = Img2Vec()\n",
    "\n",
    "# Read in an image (rgb format)\n",
    "\n",
    "imgs = df['thumbnail lq'].map(lambda url : Image.open(BytesIO(requests.get(url).content))).tolist()\n",
    "thumbnail_vectors = img2vec.get_vec(imgs)\n",
    "\n",
    "vector_size_thumbnail = len(vectors[0])\n",
    "thumbnail_vec_cols = [\"thumbnailVec\" + str(num) for num in range(vector_size_thumbnail)]\n",
    "thumbnail_vec_df = pd.DataFrame(thumbnail_vectors, index=df.index, columns = thumbnail_vec_cols)\n",
    "df = pd.concat([df, thumbnail_vec_df], axis=1)"
   ]
  },
  {
   "cell_type": "code",
   "execution_count": 120,
   "id": "60b7e08d-524b-4ef3-aea8-656f500acd31",
   "metadata": {},
   "outputs": [
    {
     "name": "stdout",
     "output_type": "stream",
     "text": [
      "MAE (just mean): 1813171.0902219412\n",
      "MAE (all params): 515384.5093842705\n"
     ]
    }
   ],
   "source": [
    "from sklearn.metrics import mean_squared_error\n",
    "from sklearn.metrics import mean_absolute_error\n",
    "from sklearn.model_selection import train_test_split\n",
    "\n",
    "x_labels = [\"categoryId\", \"tagCount\", \"avgViewsPerVid\", \"subscriberCount\", \"videoCount\", \"timeElapsed\"] + title_vec_cols + tags_vec_cols\n",
    "y_labels = [\"zLogViews\"]\n",
    "x = df.loc[:, x_labels]\n",
    "y = df.loc[:, y_labels]\n",
    "dmatrix = xgb.DMatrix(data=x,label=y, enable_categorical=True)\n",
    "\n",
    "x_train, x_test, y_train, y_test = train_test_split(x, y, test_size=0.2, random_state=123)\n",
    "\n",
    "xgb_reg = xgb.XGBRegressor(objective ='reg:squarederror',\n",
    "                           learning_rate = 0.1,\n",
    "                           max_depth = 3,\n",
    "                           n_estimators = 200)\n",
    "\n",
    "xgb_reg.fit(x_train, y_train)\n",
    "pred = xgb_reg.predict(x_test)\n",
    "\n",
    "print(\"MAE (just mean): \" + str(mean_absolute_error(np.exp(y_test), x_test[\"avgViewsPerVid\"])))\n",
    "print(\"MAE (all params): \" + str(mean_absolute_error(np.exp(y_test * std_log_views + mean_log_views), np.exp(pred * std_log_views + mean_log_views))))"
   ]
  },
  {
   "cell_type": "code",
   "execution_count": null,
   "id": "f537f8e5-d428-4e01-872b-a6ea1538ab36",
   "metadata": {},
   "outputs": [],
   "source": []
  }
 ],
 "metadata": {
  "kernelspec": {
   "display_name": "Python 3 (ipykernel)",
   "language": "python",
   "name": "python3"
  },
  "language_info": {
   "codemirror_mode": {
    "name": "ipython",
    "version": 3
   },
   "file_extension": ".py",
   "mimetype": "text/x-python",
   "name": "python",
   "nbconvert_exporter": "python",
   "pygments_lexer": "ipython3",
   "version": "3.11.1"
  }
 },
 "nbformat": 4,
 "nbformat_minor": 5
}
