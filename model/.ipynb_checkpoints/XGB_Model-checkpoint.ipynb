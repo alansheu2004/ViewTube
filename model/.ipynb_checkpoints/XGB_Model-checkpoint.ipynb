{
 "cells": [
  {
   "cell_type": "code",
   "execution_count": 6,
   "id": "4dc06c90",
   "metadata": {},
   "outputs": [],
   "source": [
    "## Set up dataset\n",
    "\n",
    "import numpy as np\n",
    "import pandas as pd\n",
    "import matplotlib.pyplot as plt\n",
    "\n",
    "import xgboost as xgb\n",
    "\n",
    "df = pd.read_csv(\"../data/youtube_project_database_withkaggle.csv\")"
   ]
  },
  {
   "cell_type": "code",
   "execution_count": 7,
   "id": "168d5dc4-15f3-4c2a-8029-b0851cfe667c",
   "metadata": {},
   "outputs": [],
   "source": [
    "## Clean up data\n",
    "\n",
    "import re\n",
    "\n",
    "#Views\n",
    "df = df[df['viewCount'].notna()]\n",
    "df['logViews'] = np.log(df['viewCount'] + 1)\n",
    "\n",
    "mean_log_views = np.mean(df['logViews'])\n",
    "std_log_views = np.std(df['logViews'])\n",
    "df['zLogViews'] = (df['logViews'] - mean_log_views) / std_log_views\n",
    "\n",
    "df = df[np.abs(df['zLogViews']) < 2]\n",
    "\n",
    "# Categories\n",
    "df[\"categoryId\"].astype(\"category\")\n",
    "\n",
    "# Average Views\n",
    "df = df[df[\"videoCount\"] > 0]\n",
    "df['avgViewsPerVid'] = pd.to_numeric(df['avgViewsPerVid'])\n",
    "\n",
    "# Titles\n",
    "def process_title(title):\n",
    "    title = str(title)\n",
    "    # title = re.sub(r\"&.*?;\", \" \", title)\n",
    "    title = re.sub(r\"[!\\\"#\\＄%&\\(\\)\\*\\+,-\\./:;<=>\\?@\\[\\\\\\]\\^_`{\\|}~]\", \" \", title)\n",
    "    title = title.lower()\n",
    "    title = title.split(\" \")\n",
    "    title = list(filter(None, title))\n",
    "    return title\n",
    "\n",
    "titles = df[\"vidTitle\"].map(process_title)\n",
    "\n",
    "# Tags\n",
    "def process_tags(tags):\n",
    "    if(tags == None):\n",
    "        return []\n",
    "    tags = str(tags)\n",
    "    tags = tags.lower()\n",
    "    tags = tags[1:-1]\n",
    "    tags = tags.split(\", \")\n",
    "    tags = [tag[1:-1] for tag in tags]\n",
    "    tags = list(filter(None, tags))\n",
    "    return tags\n",
    "\n",
    "tags = df[\"tags\"].map(process_tags)\n",
    "df[\"tagCount\"] = len(tags)\n",
    "\n",
    "# Times\n",
    "df.loc[df['retrievalTime'].isna(), 'retrievalTime'] = '2023-04-07 14:25:00'\n",
    "\n",
    "df['publishedAt'] = pd.to_datetime(df['publishedAt'], format='%Y-%m-%dT%H:%M:%SZ')\n",
    "df['retrievalTime'] = pd.to_datetime(df['retrievalTime'], format='%Y-%m-%d %H:%M:%S')\n",
    "df['timeElapsed'] = (df['retrievalTime'] - df['publishedAt']).dt.days + (df['retrievalTime'] - df['publishedAt']).dt.seconds/(24 * 60 * 60)"
   ]
  },
  {
   "cell_type": "code",
   "execution_count": 8,
   "id": "d67fe784-95ec-432d-8b87-8da181c1e4d5",
   "metadata": {},
   "outputs": [],
   "source": [
    "## Train Model for FastText\n",
    "\n",
    "from gensim.models import Word2Vec, FastText\n",
    "\n",
    "def convertToVec(ft, wordlist):\n",
    "    if (len(wordlist) == 0):\n",
    "        return np.zeros(ft.vector_size)\n",
    "    else:\n",
    "        return np.mean([ft.wv[word] for word in wordlist], axis=0)\n",
    "\n",
    "vector_size_titles = 300\n",
    "ft_titles = FastText(titles, vector_size=vector_size_titles)\n",
    "title_vectors = [convertToVec(ft_titles, title) for title in titles]\n",
    "title_vec_cols = [\"titleVec\" + str(num) for num in range(vector_size_titles)]\n",
    "title_vec_df = pd.DataFrame(title_vectors, index=df.index, columns = title_vec_cols)\n",
    "df = pd.concat([df, title_vec_df], axis=1)\n",
    "ft_titles.save(\"ft_titles.bin\")\n",
    "\n",
    "vector_size_tags = 300\n",
    "ft_tags = FastText(tags, min_count=2, vector_size = vector_size_tags)\n",
    "tags_vectors = [convertToVec(ft_tags, tagList) for tagList in tags]\n",
    "tags_vec_cols = [\"tagsVec\" + str(num) for num in range(vector_size_tags)]\n",
    "tags_vec_df = pd.DataFrame(tags_vectors, index=df.index, columns = tags_vec_cols)\n",
    "df = pd.concat([df, tags_vec_df], axis=1)\n",
    "ft_tags.save(\"ft_tags.bin\")"
   ]
  },
  {
   "cell_type": "code",
   "execution_count": 9,
   "id": "840899c7-5a94-4b4e-b5e7-a5618ac92ba4",
   "metadata": {},
   "outputs": [
    {
     "name": "stderr",
     "output_type": "stream",
     "text": [
      "C:\\Users\\me123\\AppData\\Local\\Programs\\Python\\Python311\\Lib\\site-packages\\torchvision\\models\\_utils.py:208: UserWarning: The parameter 'pretrained' is deprecated since 0.13 and may be removed in the future, please use 'weights' instead.\n",
      "  warnings.warn(\n",
      "C:\\Users\\me123\\AppData\\Local\\Programs\\Python\\Python311\\Lib\\site-packages\\torchvision\\models\\_utils.py:223: UserWarning: Arguments other than a weight enum or `None` for 'weights' are deprecated since 0.13 and may be removed in the future. The current behavior is equivalent to passing `weights=ResNet18_Weights.IMAGENET1K_V1`. You can also use `weights=ResNet18_Weights.DEFAULT` to get the most up-to-date weights.\n",
      "  warnings.warn(msg)\n"
     ]
    },
    {
     "name": "stdout",
     "output_type": "stream",
     "text": [
      "512\n"
     ]
    }
   ],
   "source": [
    "## Train Model for Img2Vec\n",
    "\n",
    "from img2vec_pytorch import Img2Vec\n",
    "from PIL import Image\n",
    "import requests\n",
    "from io import BytesIO\n",
    "\n",
    "# Initialize Img2Vec with GPU\n",
    "img2vec = Img2Vec()\n",
    "\n",
    "# Read in an image (rgb format)\n",
    "thumbnail_vectors = df['thumbnail hq'].map(lambda url : img2vec.get_vec(Image.open(BytesIO(requests.get(url).content)))).tolist()\n",
    "\n",
    "vector_size_thumbnail = len(thumbnail_vectors[0])\n",
    "print(vector_size_thumbnail)\n",
    "thumbnail_vec_cols = [\"thumbnailVec\" + str(num) for num in range(vector_size_thumbnail)]\n",
    "thumbnail_vec_df = pd.DataFrame(thumbnail_vectors, index=df.index, columns = thumbnail_vec_cols)\n",
    "df = pd.concat([df, thumbnail_vec_df], axis=1)"
   ]
  },
  {
   "cell_type": "code",
   "execution_count": null,
   "id": "60b7e08d-524b-4ef3-aea8-656f500acd31",
   "metadata": {},
   "outputs": [],
   "source": [
    "from sklearn.metrics import mean_squared_error\n",
    "from sklearn.metrics import mean_absolute_error\n",
    "from sklearn.model_selection import train_test_split\n",
    "\n",
    "x_labels = [\"categoryId\", \"tagCount\", \"avgViewsPerVid\", \"subscriberCount\", \"videoCount\", \"timeElapsed\"] + title_vec_cols + tags_vec_cols + thumbnail_vec_cols\n",
    "y_labels = [\"zLogViews\"]\n",
    "x = df.loc[:, x_labels]\n",
    "y = df.loc[:, y_labels]\n",
    "\n",
    "x_train, x_test, y_train, y_test = train_test_split(x, y, test_size=0.2)\n",
    "\n",
    "xgb_reg = xgb.XGBRegressor(objective ='reg:squarederror',\n",
    "                           learning_rate = 0.1,\n",
    "                           max_depth = 10,\n",
    "                           n_estimators = 300)\n",
    "\n",
    "xgb_reg.fit(x_train, y_train)\n",
    "pred = xgb_reg.predict(x_test)\n",
    "\n",
    "xgb_reg.save_model('xgb.json')\n",
    "\n",
    "print(\"MAE (just mean): \" + str(mean_absolute_error(np.exp(y_test), x_test[\"avgViewsPerVid\"])))\n",
    "print(\"MAE (all params): \" + str(mean_absolute_error(np.exp(y_test * std_log_views + mean_log_views), np.exp(pred * std_log_views + mean_log_views))))"
   ]
  },
  {
   "cell_type": "code",
   "execution_count": 5,
   "id": "b2fff263-9eca-4ee6-ad2c-bb5a0728deea",
   "metadata": {},
   "outputs": [
    {
     "ename": "FileNotFoundError",
     "evalue": "[Errno 2] No such file or directory: 'loz__spirit_tracks___the_sacred_duet_by_csgamegalaxy_dc9xy23-fullview.jpg'",
     "output_type": "error",
     "traceback": [
      "\u001b[1;31m---------------------------------------------------------------------------\u001b[0m",
      "\u001b[1;31mFileNotFoundError\u001b[0m                         Traceback (most recent call last)",
      "Cell \u001b[1;32mIn[5], line 61\u001b[0m\n\u001b[0;32m     58\u001b[0m df \u001b[38;5;241m=\u001b[39m pd\u001b[38;5;241m.\u001b[39mconcat([df, pd\u001b[38;5;241m.\u001b[39mDataFrame( np\u001b[38;5;241m.\u001b[39mrepeat([np\u001b[38;5;241m.\u001b[39mzeros(\u001b[38;5;241m300\u001b[39m)], time, axis\u001b[38;5;241m=\u001b[39m\u001b[38;5;241m0\u001b[39m), columns\u001b[38;5;241m=\u001b[39mtags_vec_cols)], axis\u001b[38;5;241m=\u001b[39m\u001b[38;5;241m1\u001b[39m)\n\u001b[0;32m     59\u001b[0m df \u001b[38;5;241m=\u001b[39m pd\u001b[38;5;241m.\u001b[39mconcat([df, pd\u001b[38;5;241m.\u001b[39mDataFrame( np\u001b[38;5;241m.\u001b[39mrepeat(\u001b[38;5;241m10\u001b[39m, time, axis\u001b[38;5;241m=\u001b[39m\u001b[38;5;241m0\u001b[39m) , columns\u001b[38;5;241m=\u001b[39m[\u001b[38;5;124m\"\u001b[39m\u001b[38;5;124mtagCount\u001b[39m\u001b[38;5;124m\"\u001b[39m])]     , axis\u001b[38;5;241m=\u001b[39m\u001b[38;5;241m1\u001b[39m)\n\u001b[1;32m---> 61\u001b[0m img \u001b[38;5;241m=\u001b[39m \u001b[43mImage\u001b[49m\u001b[38;5;241;43m.\u001b[39;49m\u001b[43mopen\u001b[49m\u001b[43m(\u001b[49m\u001b[38;5;124;43m\"\u001b[39;49m\u001b[38;5;124;43mloz__spirit_tracks___the_sacred_duet_by_csgamegalaxy_dc9xy23-fullview.jpg\u001b[39;49m\u001b[38;5;124;43m\"\u001b[39;49m\u001b[43m)\u001b[49m\n\u001b[0;32m     62\u001b[0m thumbnail_vectors \u001b[38;5;241m=\u001b[39m img2vec\u001b[38;5;241m.\u001b[39mget_vec([img])\n\u001b[0;32m     63\u001b[0m vector_size_thumbnail \u001b[38;5;241m=\u001b[39m \u001b[38;5;28mlen\u001b[39m(thumbnail_vectors[\u001b[38;5;241m0\u001b[39m])\n",
      "File \u001b[1;32m~\\AppData\\Local\\Programs\\Python\\Python311\\Lib\\site-packages\\PIL\\Image.py:3227\u001b[0m, in \u001b[0;36mopen\u001b[1;34m(fp, mode, formats)\u001b[0m\n\u001b[0;32m   3224\u001b[0m     filename \u001b[38;5;241m=\u001b[39m fp\n\u001b[0;32m   3226\u001b[0m \u001b[38;5;28;01mif\u001b[39;00m filename:\n\u001b[1;32m-> 3227\u001b[0m     fp \u001b[38;5;241m=\u001b[39m \u001b[43mbuiltins\u001b[49m\u001b[38;5;241;43m.\u001b[39;49m\u001b[43mopen\u001b[49m\u001b[43m(\u001b[49m\u001b[43mfilename\u001b[49m\u001b[43m,\u001b[49m\u001b[43m \u001b[49m\u001b[38;5;124;43m\"\u001b[39;49m\u001b[38;5;124;43mrb\u001b[39;49m\u001b[38;5;124;43m\"\u001b[39;49m\u001b[43m)\u001b[49m\n\u001b[0;32m   3228\u001b[0m     exclusive_fp \u001b[38;5;241m=\u001b[39m \u001b[38;5;28;01mTrue\u001b[39;00m\n\u001b[0;32m   3230\u001b[0m \u001b[38;5;28;01mtry\u001b[39;00m:\n",
      "\u001b[1;31mFileNotFoundError\u001b[0m: [Errno 2] No such file or directory: 'loz__spirit_tracks___the_sacred_duet_by_csgamegalaxy_dc9xy23-fullview.jpg'"
     ]
    }
   ],
   "source": [
    "import numpy as np\n",
    "import numpy.random as random\n",
    "import xgboost as xgb\n",
    "import pandas as pd\n",
    "import re\n",
    "\n",
    "from gensim.models import Word2Vec, FastText\n",
    "from img2vec_pytorch import Img2Vec\n",
    "from PIL import Image\n",
    "\n",
    "time = 100\n",
    "\n",
    "xgb_reg = xgb.Booster()\n",
    "xgb_reg.load_model(\"xgb.json\")\n",
    "ft_titles = FastText.load(\"ft_titles.bin\")\n",
    "ft_tags = FastText.load(\"ft_tags.bin\")\n",
    "\n",
    "def process_title(title):\n",
    "    title = str(title)\n",
    "    # title = re.sub(r\"&.*?;\", \" \", title)\n",
    "    title = re.sub(r\"[!\\\"#\\＄%&\\(\\)\\*\\+,-\\./:;<=>\\?@\\[\\\\\\]\\^_`{\\|}~]\", \" \", title)\n",
    "    title = title.lower()\n",
    "    title = title.split(\" \")\n",
    "    title = list(filter(None, title))\n",
    "    return title\n",
    "\n",
    "def process_tags(tags):\n",
    "    if(tags == None or tags == \"\"):\n",
    "        return []\n",
    "    tags = str(tags)\n",
    "    tags = tags.lower()\n",
    "    tags = re.sub(r\"[!\\\"#\\＄%&\\(\\)\\*\\+,-\\./:;<=>\\?@\\[\\\\\\]\\^_`{\\|}~]\", \" \", tags)\n",
    "    tags = tags.split(\",\")\n",
    "    tags = [tag.strip() for tag in tags]\n",
    "    tags = list(filter(None, tags))\n",
    "    return tags\n",
    "\n",
    "def convertToVec(ft, wordlist):\n",
    "    if (len(wordlist) == 0):\n",
    "        return np.zeros(ft.vector_size)\n",
    "    else:\n",
    "        return np.mean([ft.wv[word] for word in wordlist], axis=0)\n",
    "\n",
    "df = pd.DataFrame()\n",
    "df['timeElapsed'] = range(1,time+1)\n",
    "df = pd.concat([df, pd.DataFrame( np.repeat(2, time, axis=0) , columns=[\"categoryId\"])]     , axis=1)\n",
    "df = pd.concat([df, pd.DataFrame( np.repeat(100000 + random.rand() * 1000000, time, axis=0) , columns=[\"avgViewsPerVid\"])] , axis=1)\n",
    "df = pd.concat([df, pd.DataFrame( np.repeat(100 + random.rand() * 1000000, time, axis=0) , columns=[\"subscriberCount\"])], axis=1)\n",
    "df = pd.concat([df, pd.DataFrame( np.repeat(100, time, axis=0) , columns=[\"videoCount\"])]     , axis=1)\n",
    "df['categoryId'].astype(\"category\")\n",
    "\n",
    "title_vectors = convertToVec(ft_titles, process_title('A day in the life of a big pig'))\n",
    "title_vec_cols = [\"titleVec\" + str(num) for num in range(300)]\n",
    "df = pd.concat([df, pd.DataFrame( np.repeat([np.zeros(300)], time, axis=0), columns=title_vec_cols)], axis=1)\n",
    "\n",
    "tags_vectors = convertToVec(ft_tags, process_tags('shorts, wow, much'))\n",
    "tags_vec_cols = [\"tagsVec\" + str(num) for num in range(300)]\n",
    "df = pd.concat([df, pd.DataFrame( np.repeat([np.zeros(300)], time, axis=0), columns=tags_vec_cols)], axis=1)\n",
    "df = pd.concat([df, pd.DataFrame( np.repeat(10, time, axis=0) , columns=[\"tagCount\"])]     , axis=1)\n",
    "\n",
    "img = Image.open(\"loz__spirit_tracks___the_sacred_duet_by_csgamegalaxy_dc9xy23-fullview.jpg\")\n",
    "thumbnail_vectors = img2vec.get_vec([img])\n",
    "vector_size_thumbnail = len(thumbnail_vectors[0])\n",
    "thumbnail_vec_cols = [\"thumbnailVec\" + str(num) for num in range(vector_size_thumbnail)]\n",
    "df = pd.concat([df, pd.DataFrame( np.repeat(thumbnail_vectors, time, axis=0), columns=thumbnail_vec_cols)], axis=1)\n",
    "\n",
    "x_labels = [\"categoryId\", \"tagCount\", \"avgViewsPerVid\", \"subscriberCount\", \"videoCount\", \"timeElapsed\"] + title_vec_cols + tags_vec_cols + thumbnail_vec_cols\n",
    "x = df.loc[:, x_labels]\n",
    "\n",
    "dmatrix = xgb.DMatrix(data=x, enable_categorical=True)\n",
    "pred = np.exp(xgb_reg.predict(dmatrix) * std_log_views + mean_log_views)\n",
    "max_pred = np.maximum.accumulate(pred)\n",
    "smooth_pred = np.array([0])\n",
    "lerp_factor = 0\n",
    "lerp_rand_step = 0.1;\n",
    "random.seed(int(pred[1]))\n",
    "for num in max_pred:\n",
    "    lerp_factor = max(0, lerp_factor + (random.rand()-0.5) * lerp_rand_step)\n",
    "    smooth_pred = np.append(smooth_pred, smooth_pred[-1] * (1-lerp_factor) + num * lerp_factor)\n",
    "plt.plot(pred, c=\"red\")\n",
    "plt.plot(max_pred, c=\"green\")\n",
    "plt.plot(smooth_pred, c=\"blue\")"
   ]
  },
  {
   "cell_type": "code",
   "execution_count": 33,
   "id": "84ed236a-5151-4dc1-8c89-88d2002526a3",
   "metadata": {},
   "outputs": [
    {
     "data": {
      "text/plain": [
       "<BarContainer object of 9 artists>"
      ]
     },
     "execution_count": 33,
     "metadata": {},
     "output_type": "execute_result"
    },
    {
     "data": {
      "image/png": "[encoded data removed]",
      "text/plain": [
       "<Figure size 640x480 with 1 Axes>"
      ]
     },
     "metadata": {},
     "output_type": "display_data"
    }
   ],
   "source": [
    "xlabs = [\"Category\", \"# of Tags\", \"Avg. Views\", \"# Subs\", \"# Videos\", \"Time\", \"Title\", \"Tags\", \"Thumbnail\"]\n",
    "heights = np.array(xgb_reg.feature_importances_)\n",
    "heights = np.append(heights[0:6], [np.mean(heights[6:306]), np.mean(heights[306:606]), np.mean(heights[606:])])\n",
    "plt.xticks(rotation=60)\n",
    "plt.bar(xlabs, heights)"
   ]
  },
  {
   "cell_type": "code",
   "execution_count": null,
   "id": "8c71d660-2c80-46d3-8996-537e22a8dfaf",
   "metadata": {},
   "outputs": [],
   "source": []
  }
 ],
 "metadata": {
  "kernelspec": {
   "display_name": "Python 3 (ipykernel)",
   "language": "python",
   "name": "python3"
  },
  "language_info": {
   "codemirror_mode": {
    "name": "ipython",
    "version": 3
   },
   "file_extension": ".py",
   "mimetype": "text/x-python",
   "name": "python",
   "nbconvert_exporter": "python",
   "pygments_lexer": "ipython3",
   "version": "3.11.1"
  }
 },
 "nbformat": 4,
 "nbformat_minor": 5
}
